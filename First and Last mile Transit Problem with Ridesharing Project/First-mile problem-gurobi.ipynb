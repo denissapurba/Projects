{
 "cells": [
  {
   "cell_type": "markdown",
   "metadata": {},
   "source": [
    "### First-Mile Problem"
   ]
  },
  {
   "cell_type": "markdown",
   "metadata": {},
   "source": [
    "Consider:\n",
    "- 50 requests to transit stations\n",
    "- 2 dummy nodes to depart and return\n",
    "- time in minutes relative to the vehicle strating time\n",
    "- Assume every vehicle starts at same time and works for "
   ]
  },
  {
   "cell_type": "code",
   "execution_count": 1,
   "metadata": {},
   "outputs": [],
   "source": [
    "import gurobipy as gp\n",
    "from gurobipy import GRB\n",
    "import numpy as np\n",
    "import pandas as pd"
   ]
  },
  {
   "cell_type": "markdown",
   "metadata": {},
   "source": [
    "### 1. Data"
   ]
  },
  {
   "cell_type": "code",
   "execution_count": 2,
   "metadata": {},
   "outputs": [],
   "source": [
    "# Load\n",
    "sd = pd.read_csv('service_duration.csv')\n",
    "df_97 = pd.read_csv('reg2_97.csv')\n",
    "df_95 = pd.read_csv('reg2_95.csv')\n",
    "df_123 = pd.read_csv('reg2_123.csv')\n",
    "travel_time = pd.read_csv('TravelTime_dp.csv')\n",
    "\n",
    "df = pd.concat([df_95, df_97, df_123], axis=0)\n",
    "df['trip_id'] = [i for i in range(1,len(df)+1)]\n",
    "\n",
    "# set of nodes\n",
    "P = [i for i in df.trip_id]\n",
    "D = [i+len(df) for i in df.trip_id]\n",
    "dummy = [0, 2*len(df)+1]\n",
    "N = P + D + dummy\n",
    "\n",
    "# demand of each trip\n",
    "q_p = {i: df.loc[df['trip_id'] == i, 'k_i1'].iloc[0] for i in P }\n",
    "q_d = {i: df.loc[df['trip_id'] == i-len(df), 'k_i2'].iloc[0] for i in D }\n",
    "q_dd = {i: 0 for i in dummy}   # is it correct?\n",
    "q = {**q_p, **q_d, **q_dd} \n",
    "\n",
    "# early serving time\n",
    "e_p = {i: df.loc[df['trip_id'] == i, 'e_i1'].iloc[0] for i in P }\n",
    "e_d = {i: df.loc[df['trip_id'] == i-len(df), 'e_i2'].iloc[0] for i in D }\n",
    "e_dd = {i: 0 for i in dummy}   # the earliest possible from the vehicle start dispatch time\n",
    "ea = {**e_p, **e_d, **e_dd} \n",
    "\n",
    "# latest serving time\n",
    "M = 1e6\n",
    "l_p = {i: df.loc[df['trip_id'] == i, 'l_i1'].iloc[0] for i in P }\n",
    "l_d = {i: df.loc[df['trip_id'] == i-len(df), 'l_i2'].iloc[0] for i in D }\n",
    "l_dd = {i: M for i in dummy}   # unrestricted value\n",
    "l = {**l_p, **l_d, **l_dd} \n",
    "\n",
    "# Node-Trip ID\n",
    "node_trip_p = {i: df.loc[df['trip_id'] == i, 'reg1'].iloc[0] for i in P }\n",
    "node_trip_d = {i: df.loc[df['trip_id'] == i-len(df), 'reg2'].iloc[0] for i in D }\n",
    "node_trip_dd = {i: i for i in dummy}\n",
    "node_trip = {**node_trip_p, **node_trip_d, **node_trip_dd}\n",
    "\n",
    "# travel time\n",
    "A = [(i, j) for i in N for j in N if i != j]  # complete graph\n",
    "tij = { (i,j): travel_time.iat[node_trip[i],node_trip[j]] for i,j in A}\n",
    "tij[(2*len(df)+1,0)] = 0\n",
    "tij[(0,2*len(df)+1)]= 0\n",
    "\n",
    "\n",
    "# maximum service time\n",
    "r = 0.5\n",
    "Lmax = {i: (1+r)*tij[(i,len(df)+i)] for i in P }\n",
    "\n",
    "# service duration\n",
    "# assume fix service duretion (loads and unload passenger)\n",
    "s_pd = {i: 3 for i in P+D}\n",
    "s_dd = {i: 0 for i in dummy}\n",
    "s = {**s_pd, **s_dd}\n",
    "\n",
    "\n",
    "# set of vehicles\n",
    "m = 5\n",
    "M = [i for i in range(1,m+1)]\n",
    "Tm = {i: np.random.randint(100,400) for i in M}  # on average the ride-sharing only work 4-6 hours/day\n",
    "Qmax = 4 # assume every vehicles is medium passenger cars (max 5 seats)\n",
    "\n",
    "# weights\n",
    "a1 = 0.6  \n",
    "a2 = 0.2\n",
    "a3 = 0.2"
   ]
  },
  {
   "cell_type": "code",
   "execution_count": 3,
   "metadata": {},
   "outputs": [
    {
     "data": {
      "text/html": [
       "<div>\n",
       "<style scoped>\n",
       "    .dataframe tbody tr th:only-of-type {\n",
       "        vertical-align: middle;\n",
       "    }\n",
       "\n",
       "    .dataframe tbody tr th {\n",
       "        vertical-align: top;\n",
       "    }\n",
       "\n",
       "    .dataframe thead th {\n",
       "        text-align: right;\n",
       "    }\n",
       "</style>\n",
       "<table border=\"1\" class=\"dataframe\">\n",
       "  <thead>\n",
       "    <tr style=\"text-align: right;\">\n",
       "      <th></th>\n",
       "      <th>e_i1</th>\n",
       "      <th>l_i1</th>\n",
       "      <th>k_i1</th>\n",
       "      <th>reg1</th>\n",
       "      <th>e_i2</th>\n",
       "      <th>l_i2</th>\n",
       "      <th>k_i2</th>\n",
       "      <th>reg2</th>\n",
       "      <th>trip_id</th>\n",
       "    </tr>\n",
       "  </thead>\n",
       "  <tbody>\n",
       "    <tr>\n",
       "      <th>0</th>\n",
       "      <td>40</td>\n",
       "      <td>57</td>\n",
       "      <td>2</td>\n",
       "      <td>126</td>\n",
       "      <td>60</td>\n",
       "      <td>77</td>\n",
       "      <td>-2</td>\n",
       "      <td>95</td>\n",
       "      <td>1</td>\n",
       "    </tr>\n",
       "    <tr>\n",
       "      <th>1</th>\n",
       "      <td>24</td>\n",
       "      <td>47</td>\n",
       "      <td>1</td>\n",
       "      <td>98</td>\n",
       "      <td>30</td>\n",
       "      <td>53</td>\n",
       "      <td>-1</td>\n",
       "      <td>95</td>\n",
       "      <td>2</td>\n",
       "    </tr>\n",
       "    <tr>\n",
       "      <th>2</th>\n",
       "      <td>15</td>\n",
       "      <td>50</td>\n",
       "      <td>1</td>\n",
       "      <td>79</td>\n",
       "      <td>33</td>\n",
       "      <td>68</td>\n",
       "      <td>-1</td>\n",
       "      <td>95</td>\n",
       "      <td>3</td>\n",
       "    </tr>\n",
       "    <tr>\n",
       "      <th>0</th>\n",
       "      <td>30</td>\n",
       "      <td>45</td>\n",
       "      <td>1</td>\n",
       "      <td>127</td>\n",
       "      <td>44</td>\n",
       "      <td>64</td>\n",
       "      <td>-1</td>\n",
       "      <td>97</td>\n",
       "      <td>4</td>\n",
       "    </tr>\n",
       "    <tr>\n",
       "      <th>1</th>\n",
       "      <td>16</td>\n",
       "      <td>45</td>\n",
       "      <td>2</td>\n",
       "      <td>33</td>\n",
       "      <td>36</td>\n",
       "      <td>70</td>\n",
       "      <td>-2</td>\n",
       "      <td>97</td>\n",
       "      <td>5</td>\n",
       "    </tr>\n",
       "    <tr>\n",
       "      <th>0</th>\n",
       "      <td>12</td>\n",
       "      <td>41</td>\n",
       "      <td>2</td>\n",
       "      <td>77</td>\n",
       "      <td>17</td>\n",
       "      <td>55</td>\n",
       "      <td>-2</td>\n",
       "      <td>123</td>\n",
       "      <td>6</td>\n",
       "    </tr>\n",
       "    <tr>\n",
       "      <th>1</th>\n",
       "      <td>38</td>\n",
       "      <td>57</td>\n",
       "      <td>3</td>\n",
       "      <td>94</td>\n",
       "      <td>45</td>\n",
       "      <td>73</td>\n",
       "      <td>-3</td>\n",
       "      <td>123</td>\n",
       "      <td>7</td>\n",
       "    </tr>\n",
       "  </tbody>\n",
       "</table>\n",
       "</div>"
      ],
      "text/plain": [
       "   e_i1  l_i1  k_i1  reg1  e_i2  l_i2  k_i2  reg2  trip_id\n",
       "0    40    57     2   126    60    77    -2    95        1\n",
       "1    24    47     1    98    30    53    -1    95        2\n",
       "2    15    50     1    79    33    68    -1    95        3\n",
       "0    30    45     1   127    44    64    -1    97        4\n",
       "1    16    45     2    33    36    70    -2    97        5\n",
       "0    12    41     2    77    17    55    -2   123        6\n",
       "1    38    57     3    94    45    73    -3   123        7"
      ]
     },
     "execution_count": 3,
     "metadata": {},
     "output_type": "execute_result"
    }
   ],
   "source": [
    "df"
   ]
  },
  {
   "cell_type": "code",
   "execution_count": 4,
   "metadata": {},
   "outputs": [
    {
     "data": {
      "text/plain": [
       "15"
      ]
     },
     "execution_count": 4,
     "metadata": {},
     "output_type": "execute_result"
    }
   ],
   "source": [
    "2*len(df)+1"
   ]
  },
  {
   "cell_type": "markdown",
   "metadata": {},
   "source": [
    "### 2. Problem Formulation"
   ]
  },
  {
   "cell_type": "code",
   "execution_count": 5,
   "metadata": {},
   "outputs": [
    {
     "name": "stdout",
     "output_type": "stream",
     "text": [
      "Academic license - for non-commercial use only - expires 2022-01-05\n",
      "Using license file /Users/denissapurba/gurobi.lic\n"
     ]
    }
   ],
   "source": [
    "model = gp.Model('VRPTW-FMP')"
   ]
  },
  {
   "cell_type": "code",
   "execution_count": 6,
   "metadata": {},
   "outputs": [],
   "source": [
    "# Decision Variables\n",
    "x = model.addVars(M, A, lb=0, vtype=GRB.BINARY, name=\"x\")\n",
    "Q = model.addVars(M, N, lb=0, ub= Qmax, vtype=GRB.CONTINUOUS, name=\"Q\")\n",
    "B = model.addVars(M, N, lb=0, vtype=GRB.CONTINUOUS, name=\"B\")\n",
    "L = model.addVars(M, P, lb=0, vtype=GRB.CONTINUOUS, name=\"L\")\n",
    "\n",
    "model.update()\n"
   ]
  },
  {
   "cell_type": "code",
   "execution_count": 7,
   "metadata": {},
   "outputs": [],
   "source": [
    "# Constraints\n",
    "model.addConstrs(gp.quicksum(x[h, i, j] for j in P+D if j != i for h in M) == 1 for i in P)\n",
    "\n",
    "model.addConstrs(gp.quicksum(x[h, j, i] for j in N if j != i) - gp.quicksum(x[h, i, k] for k in N if k != i) == 0 for i in P+D for h in M)          \n",
    "\n",
    "model.addConstrs(gp.quicksum(x[h, i, j] for j in N if j != i) - gp.quicksum(x[h, k, len(df)+i] for k in N if k != len(df)+i) == 0 for i in P for h in M)          \n",
    "\n",
    "model.addConstrs(gp.quicksum(x[h, j, 2*len(df)+1] for j in N if j != 2*len(df)+1) == 1 for h in M)          \n",
    "\n",
    "model.addConstrs(gp.quicksum(x[h, 0, k] for k in N if k != 0) == 1 for h in M)          \n",
    "\n",
    "model.addConstrs(B[h,i] >= ea[i] for i in N for h in M)\n",
    "\n",
    "model.addConstrs(B[h,i] <= l[i] for i in N for h in M)\n",
    "\n",
    "model.addConstrs(B[h,2*len(df)+1] - B[h,0] <= Tm[h] for h in M)\n",
    "\n",
    "model.addConstrs(B[h,j] >= (B[h,i] + s[i] + tij[(i,j)])*x[h,i,j] for i in N for j in N if j!=i for h in M)\n",
    "\n",
    "model.addConstrs(L[h,i] == B[h,(len(df)+i)] - (B[h,i] + s[i]) for i in P for h in M)\n",
    "\n",
    "model.addConstrs(L[h,i] >= tij[(i,(len(df)+i))] for i in P for h in M)\n",
    "\n",
    "model.addConstrs(L[h,i] <= Lmax[i] for i in P for h in M)\n",
    "\n",
    "model.addConstrs(Q[h,j] >= (Q[h,i] + q[j])*x[h,i,j] for i in N for j in N if j!=i for h in M)\n",
    "\n",
    "model.addConstrs(Q[h,i] >= q[i] for i in N for h in M)\n",
    "\n",
    "model.addConstrs(Q[h,i] <= Qmax + q[i] for i in N for h in M)\n",
    "\n",
    "model.update()"
   ]
  },
  {
   "cell_type": "code",
   "execution_count": 8,
   "metadata": {},
   "outputs": [],
   "source": [
    "# Objective\n",
    "\n",
    "obj1 = model.addVar(lb=0, vtype=GRB.CONTINUOUS, name=\"obj1\")  # auxiliary variable to represent objective\n",
    "obj2 = model.addVar(lb=0, vtype=GRB.CONTINUOUS, name=\"obj2\")  # auxiliary variable to represent objective\n",
    "obj3 = model.addVar(lb=0, vtype=GRB.CONTINUOUS, name=\"obj3\")  # auxiliary variable to represent objective\n",
    "\n",
    "# Objective 1\n",
    "model.addConstr(gp.quicksum(tij[(i,j)]*x[h,i,j] for i,j in A for h in M) <= obj1)\n",
    "\n",
    "# Objective 2\n",
    "model.addConstr(gp.quicksum(L[h,i] - tij[(i,(len(df)+i))] for i in P for h in M) <= obj2)\n",
    "\n",
    "# Objective 3\n",
    "model.addConstr(gp.quicksum((B[h,i] - ea[i])*q[i] for i in P for h in M) <= obj3)\n",
    "\n",
    "model.setObjective((a1*obj1 + a2*obj2 + a3*obj3), GRB.MINIMIZE)\n",
    "\n",
    "model.update()\n"
   ]
  },
  {
   "cell_type": "code",
   "execution_count": 9,
   "metadata": {},
   "outputs": [
    {
     "name": "stdout",
     "output_type": "stream",
     "text": [
      "Warning: Q constraint 0 doesn't have a name\n"
     ]
    }
   ],
   "source": [
    "model.write(\"VRPTW-FMP.lp\")"
   ]
  },
  {
   "cell_type": "code",
   "execution_count": 10,
   "metadata": {},
   "outputs": [
    {
     "name": "stdout",
     "output_type": "stream",
     "text": [
      "Changed value of parameter NonConvex to 2\n",
      "   Prev: -1  Min: -1  Max: 2  Default: -1\n",
      "Changed value of parameter MIPFocus to 3\n",
      "   Prev: 0  Min: 0  Max: 3  Default: 0\n"
     ]
    }
   ],
   "source": [
    "#Set Parameter as Nonconvex Optimization Problem\n",
    "model.Params.NonConvex = 2\n",
    "model.Params.MIPFocus = 3\n",
    "#model.Params.NumericFocus = 3\n",
    "#model.Params.IntFeasTol = 1e-08"
   ]
  },
  {
   "cell_type": "code",
   "execution_count": 11,
   "metadata": {},
   "outputs": [
    {
     "name": "stdout",
     "output_type": "stream",
     "text": [
      "Gurobi Optimizer version 9.1.1 build v9.1.1rc0 (mac64)\n",
      "Thread count: 4 physical cores, 8 logical processors, using up to 8 threads\n",
      "Optimize a model with 555 rows, 1398 columns and 5403 nonzeros\n",
      "Model fingerprint: 0x5cb92bc7\n",
      "Model has 2400 quadratic constraints\n",
      "Variable types: 198 continuous, 1200 integer (1200 binary)\n",
      "Coefficient statistics:\n",
      "  Matrix range     [1e+00, 5e+01]\n",
      "  QMatrix range    [1e+00, 1e+00]\n",
      "  QLMatrix range   [1e+00, 5e+01]\n",
      "  Objective range  [2e-01, 6e-01]\n",
      "  Bounds range     [1e+00, 4e+00]\n",
      "  RHS range        [1e+00, 1e+06]\n",
      "Presolve added 657 rows and 0 columns\n",
      "Presolve removed 0 rows and 478 columns\n",
      "Presolve time: 0.10s\n",
      "Presolved: 1792 rows, 1210 columns, 11050 nonzeros\n",
      "Variable types: 475 continuous, 735 integer (735 binary)\n",
      "Presolved: 1493 rows, 873 columns, 10057 nonzeros\n",
      "\n",
      "\n",
      "Root relaxation: objective 1.467000e+02, 321 iterations, 0.08 seconds\n",
      "\n",
      "    Nodes    |    Current Node    |     Objective Bounds      |     Work\n",
      " Expl Unexpl |  Obj  Depth IntInf | Incumbent    BestBd   Gap | It/Node Time\n",
      "\n",
      "     0     0  146.70000    0   55          -  146.70000      -     -    0s\n",
      "     0     0  147.10000    0   44          -  147.10000      -     -    1s\n",
      "     0     0  151.04253    0   62          -  151.04253      -     -    1s\n",
      "     0     0  151.37094    0   66          -  151.37094      -     -    1s\n",
      "     0     0  151.37094    0   66          -  151.37094      -     -    1s\n",
      "     0     0  165.41250    0   71          -  165.41250      -     -    2s\n",
      "     0     0  168.41224    0   62          -  168.41224      -     -    2s\n",
      "     0     0  171.88597    0   61          -  171.88597      -     -    4s\n",
      "     0     0  171.95524    0   70          -  171.95524      -     -    4s\n",
      "     0     0  178.50000    0   72          -  178.50000      -     -    5s\n",
      "     0     0  178.70000    0   72          -  178.70000      -     -    7s\n",
      "     0     0  178.70000    0   50          -  178.70000      -     -    8s\n",
      "     0     0  178.70000    0   64          -  178.70000      -     -    8s\n",
      "     0     0  178.70000    0   59          -  178.70000      -     -    9s\n",
      "     0     0  178.70000    0  106          -  178.70000      -     -    9s\n",
      "     0     0  178.70000    0   80          -  178.70000      -     -    9s\n",
      "     0     0  178.70000    0   98          -  178.70000      -     -    9s\n",
      "     0     0  178.70000    0   98          -  178.70000      -     -   11s\n",
      "     0     0  178.70000    0   75          -  178.70000      -     -   11s\n",
      "     0     0  178.70000    0   84          -  178.70000      -     -   11s\n",
      "     0     0  178.70000    0   87          -  178.70000      -     -   11s\n",
      "     0     0  181.40385    0  121          -  181.40385      -     -   13s\n",
      "     0     0  181.40385    0  121          -  181.40385      -     -   15s\n",
      "     0     2  181.40385    0  121          -  181.40385      -     -   20s\n",
      "  1019   432  191.30383   12   62          -  188.25190      -  55.1   25s\n",
      "  2151   868  198.22478   12  118          -  189.31937      -  45.9   32s\n",
      "  2156   870  189.31937   11  100          -  189.31937      -  48.4   35s\n",
      "* 2174   826              16     244.0000000  189.31937  22.4%  49.4   38s\n",
      "  2208   809  189.31937   21   76  244.00000  189.31937  22.4%  49.6   40s\n",
      "* 2251   756              26     227.0000000  189.31937  16.6%  50.0   41s\n",
      "  2412   741  196.42074   43   74  227.00000  195.57631  13.8%  51.4   45s\n",
      "  2693   631  225.96364   51   30  227.00000  223.15282  1.69%  50.8   50s\n",
      "\n",
      "Cutting planes:\n",
      "  Learned: 27\n",
      "  Gomory: 33\n",
      "  Cover: 7\n",
      "  Implied bound: 91\n",
      "  Projected implied bound: 2\n",
      "  Clique: 12\n",
      "  MIR: 52\n",
      "  StrongCG: 10\n",
      "  Flow cover: 235\n",
      "  GUB cover: 2\n",
      "  Zero half: 84\n",
      "  RLT: 49\n",
      "  Relax-and-lift: 72\n",
      "\n",
      "Explored 2828 nodes (138275 simplex iterations) in 50.64 seconds\n",
      "Thread count was 8 (of 8 available processors)\n",
      "\n",
      "Solution count 2: 227 244 \n",
      "\n",
      "Optimal solution found (tolerance 1.00e-04)\n",
      "Best objective 2.270000000000e+02, best bound 2.270000000000e+02, gap 0.0000%\n"
     ]
    }
   ],
   "source": [
    "model.optimize()"
   ]
  },
  {
   "cell_type": "code",
   "execution_count": 12,
   "metadata": {},
   "outputs": [
    {
     "name": "stdout",
     "output_type": "stream",
     "text": [
      "1 5 12\n",
      "1 12 15\n",
      "1 0 5\n",
      "2 4 11\n",
      "2 11 15\n",
      "2 0 4\n",
      "3 7 14\n",
      "3 14 15\n",
      "3 0 7\n",
      "4 2 10\n",
      "4 3 2\n",
      "4 9 15\n",
      "4 10 9\n",
      "4 0 3\n",
      "5 1 8\n",
      "5 6 13\n",
      "5 8 15\n",
      "5 13 1\n",
      "5 0 6\n"
     ]
    }
   ],
   "source": [
    "for m in M:\n",
    "    for u,v in A:\n",
    "        if x[m,u,v].X==1:\n",
    "            print(m,u,v)"
   ]
  },
  {
   "cell_type": "code",
   "execution_count": 18,
   "metadata": {},
   "outputs": [
    {
     "data": {
      "text/plain": [
       "<gurobi.Var B[5,6] (value 12.999999999999996)>"
      ]
     },
     "execution_count": 18,
     "metadata": {},
     "output_type": "execute_result"
    }
   ],
   "source": [
    "B[5,6]"
   ]
  },
  {
   "cell_type": "code",
   "execution_count": 19,
   "metadata": {},
   "outputs": [
    {
     "data": {
      "text/html": [
       "<div>\n",
       "<style scoped>\n",
       "    .dataframe tbody tr th:only-of-type {\n",
       "        vertical-align: middle;\n",
       "    }\n",
       "\n",
       "    .dataframe tbody tr th {\n",
       "        vertical-align: top;\n",
       "    }\n",
       "\n",
       "    .dataframe thead th {\n",
       "        text-align: right;\n",
       "    }\n",
       "</style>\n",
       "<table border=\"1\" class=\"dataframe\">\n",
       "  <thead>\n",
       "    <tr style=\"text-align: right;\">\n",
       "      <th></th>\n",
       "      <th>e_i1</th>\n",
       "      <th>l_i1</th>\n",
       "      <th>k_i1</th>\n",
       "      <th>reg1</th>\n",
       "      <th>e_i2</th>\n",
       "      <th>l_i2</th>\n",
       "      <th>k_i2</th>\n",
       "      <th>reg2</th>\n",
       "      <th>trip_id</th>\n",
       "    </tr>\n",
       "  </thead>\n",
       "  <tbody>\n",
       "    <tr>\n",
       "      <th>0</th>\n",
       "      <td>40</td>\n",
       "      <td>57</td>\n",
       "      <td>2</td>\n",
       "      <td>126</td>\n",
       "      <td>60</td>\n",
       "      <td>77</td>\n",
       "      <td>-2</td>\n",
       "      <td>95</td>\n",
       "      <td>1</td>\n",
       "    </tr>\n",
       "    <tr>\n",
       "      <th>1</th>\n",
       "      <td>24</td>\n",
       "      <td>47</td>\n",
       "      <td>1</td>\n",
       "      <td>98</td>\n",
       "      <td>30</td>\n",
       "      <td>53</td>\n",
       "      <td>-1</td>\n",
       "      <td>95</td>\n",
       "      <td>2</td>\n",
       "    </tr>\n",
       "    <tr>\n",
       "      <th>2</th>\n",
       "      <td>15</td>\n",
       "      <td>50</td>\n",
       "      <td>1</td>\n",
       "      <td>79</td>\n",
       "      <td>33</td>\n",
       "      <td>68</td>\n",
       "      <td>-1</td>\n",
       "      <td>95</td>\n",
       "      <td>3</td>\n",
       "    </tr>\n",
       "    <tr>\n",
       "      <th>0</th>\n",
       "      <td>30</td>\n",
       "      <td>45</td>\n",
       "      <td>1</td>\n",
       "      <td>127</td>\n",
       "      <td>44</td>\n",
       "      <td>64</td>\n",
       "      <td>-1</td>\n",
       "      <td>97</td>\n",
       "      <td>4</td>\n",
       "    </tr>\n",
       "    <tr>\n",
       "      <th>1</th>\n",
       "      <td>16</td>\n",
       "      <td>45</td>\n",
       "      <td>2</td>\n",
       "      <td>33</td>\n",
       "      <td>36</td>\n",
       "      <td>70</td>\n",
       "      <td>-2</td>\n",
       "      <td>97</td>\n",
       "      <td>5</td>\n",
       "    </tr>\n",
       "    <tr>\n",
       "      <th>0</th>\n",
       "      <td>12</td>\n",
       "      <td>41</td>\n",
       "      <td>2</td>\n",
       "      <td>77</td>\n",
       "      <td>17</td>\n",
       "      <td>55</td>\n",
       "      <td>-2</td>\n",
       "      <td>123</td>\n",
       "      <td>6</td>\n",
       "    </tr>\n",
       "    <tr>\n",
       "      <th>1</th>\n",
       "      <td>38</td>\n",
       "      <td>57</td>\n",
       "      <td>3</td>\n",
       "      <td>94</td>\n",
       "      <td>45</td>\n",
       "      <td>73</td>\n",
       "      <td>-3</td>\n",
       "      <td>123</td>\n",
       "      <td>7</td>\n",
       "    </tr>\n",
       "  </tbody>\n",
       "</table>\n",
       "</div>"
      ],
      "text/plain": [
       "   e_i1  l_i1  k_i1  reg1  e_i2  l_i2  k_i2  reg2  trip_id\n",
       "0    40    57     2   126    60    77    -2    95        1\n",
       "1    24    47     1    98    30    53    -1    95        2\n",
       "2    15    50     1    79    33    68    -1    95        3\n",
       "0    30    45     1   127    44    64    -1    97        4\n",
       "1    16    45     2    33    36    70    -2    97        5\n",
       "0    12    41     2    77    17    55    -2   123        6\n",
       "1    38    57     3    94    45    73    -3   123        7"
      ]
     },
     "execution_count": 19,
     "metadata": {},
     "output_type": "execute_result"
    }
   ],
   "source": [
    "df"
   ]
  },
  {
   "cell_type": "code",
   "execution_count": null,
   "metadata": {},
   "outputs": [],
   "source": []
  }
 ],
 "metadata": {
  "kernelspec": {
   "display_name": "Python 3",
   "language": "python",
   "name": "python3"
  },
  "language_info": {
   "codemirror_mode": {
    "name": "ipython",
    "version": 3
   },
   "file_extension": ".py",
   "mimetype": "text/x-python",
   "name": "python",
   "nbconvert_exporter": "python",
   "pygments_lexer": "ipython3",
   "version": "3.8.5"
  }
 },
 "nbformat": 4,
 "nbformat_minor": 4
}
