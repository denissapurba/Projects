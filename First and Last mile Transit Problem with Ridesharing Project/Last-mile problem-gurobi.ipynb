{
 "cells": [
  {
   "cell_type": "markdown",
   "metadata": {},
   "source": [
    "### Last-Mile Problem"
   ]
  },
  {
   "cell_type": "markdown",
   "metadata": {},
   "source": [
    "Consider:\n",
    "- 50 requests to transit stations\n",
    "- 2 dummy nodes to depart and return\n",
    "- time in minutes relative to the vehicle strating time\n",
    "- Assume every vehicle starts at same time and works for "
   ]
  },
  {
   "cell_type": "code",
   "execution_count": 1,
   "metadata": {},
   "outputs": [],
   "source": [
    "import gurobipy as gp\n",
    "from gurobipy import GRB\n",
    "import numpy as np\n",
    "import pandas as pd"
   ]
  },
  {
   "cell_type": "markdown",
   "metadata": {},
   "source": [
    "### 1. Data"
   ]
  },
  {
   "cell_type": "code",
   "execution_count": 2,
   "metadata": {},
   "outputs": [],
   "source": [
    "# Load\n",
    "sd = pd.read_csv('service_duration.csv')\n",
    "df_97 = pd.read_csv('reg2_97.csv')\n",
    "df_95 = pd.read_csv('reg2_95.csv')\n",
    "df_123 = pd.read_csv('reg2_123.csv')\n",
    "travel_time = pd.read_csv('TravelTime_dp.csv')\n",
    "\n",
    "df = pd.concat([df_95, df_97, df_123], axis=0)\n",
    "df['trip_id'] = [i for i in range(1,len(df)+1)]\n",
    "\n",
    "# set of nodes\n",
    "P = [i for i in df.trip_id]\n",
    "D = [i+len(df) for i in df.trip_id]\n",
    "dummy = [0, 2*len(df)+1]\n",
    "N = P + D + dummy\n",
    "\n",
    "# demand of each trip\n",
    "q_p = {i: df.loc[df['trip_id'] == i, 'k_i1'].iloc[0] for i in P }\n",
    "q_d = {i: df.loc[df['trip_id'] == i-len(df), 'k_i2'].iloc[0] for i in D }\n",
    "q_dd = {i: 0 for i in dummy}   # is it correct?\n",
    "q = {**q_p, **q_d, **q_dd} \n",
    "\n",
    "# early serving time\n",
    "e_p = {i: df.loc[df['trip_id'] == i, 'e_i1'].iloc[0] for i in P }\n",
    "e_d = {i: df.loc[df['trip_id'] == i-len(df), 'e_i2'].iloc[0] for i in D }\n",
    "e_dd = {i: 0 for i in dummy}   # the earliest possible from the vehicle start dispatch time\n",
    "ea = {**e_p, **e_d, **e_dd} \n",
    "\n",
    "# latest serving time\n",
    "M = 1e6\n",
    "l_p = {i: df.loc[df['trip_id'] == i, 'l_i1'].iloc[0] for i in P }\n",
    "l_d = {i: df.loc[df['trip_id'] == i-len(df), 'l_i2'].iloc[0] for i in D }\n",
    "l_dd = {i: M for i in dummy}   # unrestricted value\n",
    "l = {**l_p, **l_d, **l_dd} \n",
    "\n",
    "# Node-Trip ID\n",
    "node_trip_p = {i: df.loc[df['trip_id'] == i, 'reg1'].iloc[0] for i in P }\n",
    "node_trip_d = {i: df.loc[df['trip_id'] == i-len(df), 'reg2'].iloc[0] for i in D }\n",
    "node_trip_dd = {i: i for i in dummy}\n",
    "node_trip = {**node_trip_p, **node_trip_d, **node_trip_dd}\n",
    "\n",
    "# travel time\n",
    "A = [(i, j) for i in N for j in N if i != j]  # complete graph\n",
    "tij = { (i,j): travel_time.iat[node_trip[i],node_trip[j]] for i,j in A}\n",
    "tij[(2*len(df)+1,0)] = 0\n",
    "tij[(0,2*len(df)+1)]= 0\n",
    "\n",
    "\n",
    "# maximum service time\n",
    "r = 0.5\n",
    "Lmax = {i: (1+r)*tij[(i,len(df)+i)] for i in P }\n",
    "\n",
    "# service duration\n",
    "# assume fix service duretion (loads and unload passenger)\n",
    "s_pd = {i: 3 for i in P+D}\n",
    "s_dd = {i: 0 for i in dummy}\n",
    "s = {**s_pd, **s_dd}\n",
    "\n",
    "\n",
    "# set of vehicles\n",
    "m = 7\n",
    "M = [i for i in range(1,m+1)]\n",
    "Tm = {i: np.random.randint(100,400) for i in M}  # on average the ride-sharing only work 4-6 hours/day\n",
    "Qmax = 4 # assume every vehicles is medium passenger cars (max 5 seats)\n",
    "\n",
    "# weights\n",
    "a1 = 0.6  \n",
    "a2 = 0.2\n",
    "a3 = 0.2"
   ]
  },
  {
   "cell_type": "code",
   "execution_count": 3,
   "metadata": {},
   "outputs": [
    {
     "data": {
      "text/plain": [
       "0"
      ]
     },
     "execution_count": 3,
     "metadata": {},
     "output_type": "execute_result"
    }
   ],
   "source": [
    "tij[(2*len(df)+1,0)] "
   ]
  },
  {
   "cell_type": "code",
   "execution_count": 4,
   "metadata": {},
   "outputs": [
    {
     "data": {
      "text/html": [
       "<div>\n",
       "<style scoped>\n",
       "    .dataframe tbody tr th:only-of-type {\n",
       "        vertical-align: middle;\n",
       "    }\n",
       "\n",
       "    .dataframe tbody tr th {\n",
       "        vertical-align: top;\n",
       "    }\n",
       "\n",
       "    .dataframe thead th {\n",
       "        text-align: right;\n",
       "    }\n",
       "</style>\n",
       "<table border=\"1\" class=\"dataframe\">\n",
       "  <thead>\n",
       "    <tr style=\"text-align: right;\">\n",
       "      <th></th>\n",
       "      <th>e_i1</th>\n",
       "      <th>l_i1</th>\n",
       "      <th>k_i1</th>\n",
       "      <th>reg1</th>\n",
       "      <th>e_i2</th>\n",
       "      <th>l_i2</th>\n",
       "      <th>k_i2</th>\n",
       "      <th>reg2</th>\n",
       "      <th>trip_id</th>\n",
       "    </tr>\n",
       "  </thead>\n",
       "  <tbody>\n",
       "    <tr>\n",
       "      <th>0</th>\n",
       "      <td>2</td>\n",
       "      <td>26</td>\n",
       "      <td>2</td>\n",
       "      <td>95</td>\n",
       "      <td>21</td>\n",
       "      <td>45</td>\n",
       "      <td>-2</td>\n",
       "      <td>124</td>\n",
       "      <td>1</td>\n",
       "    </tr>\n",
       "    <tr>\n",
       "      <th>1</th>\n",
       "      <td>13</td>\n",
       "      <td>43</td>\n",
       "      <td>2</td>\n",
       "      <td>95</td>\n",
       "      <td>26</td>\n",
       "      <td>56</td>\n",
       "      <td>-2</td>\n",
       "      <td>100</td>\n",
       "      <td>2</td>\n",
       "    </tr>\n",
       "    <tr>\n",
       "      <th>2</th>\n",
       "      <td>3</td>\n",
       "      <td>17</td>\n",
       "      <td>1</td>\n",
       "      <td>95</td>\n",
       "      <td>9</td>\n",
       "      <td>23</td>\n",
       "      <td>-1</td>\n",
       "      <td>157</td>\n",
       "      <td>3</td>\n",
       "    </tr>\n",
       "    <tr>\n",
       "      <th>0</th>\n",
       "      <td>20</td>\n",
       "      <td>48</td>\n",
       "      <td>2</td>\n",
       "      <td>97</td>\n",
       "      <td>26</td>\n",
       "      <td>59</td>\n",
       "      <td>-2</td>\n",
       "      <td>49</td>\n",
       "      <td>4</td>\n",
       "    </tr>\n",
       "    <tr>\n",
       "      <th>1</th>\n",
       "      <td>13</td>\n",
       "      <td>35</td>\n",
       "      <td>1</td>\n",
       "      <td>97</td>\n",
       "      <td>26</td>\n",
       "      <td>53</td>\n",
       "      <td>-1</td>\n",
       "      <td>76</td>\n",
       "      <td>5</td>\n",
       "    </tr>\n",
       "    <tr>\n",
       "      <th>0</th>\n",
       "      <td>2</td>\n",
       "      <td>28</td>\n",
       "      <td>2</td>\n",
       "      <td>123</td>\n",
       "      <td>20</td>\n",
       "      <td>55</td>\n",
       "      <td>-2</td>\n",
       "      <td>50</td>\n",
       "      <td>6</td>\n",
       "    </tr>\n",
       "    <tr>\n",
       "      <th>1</th>\n",
       "      <td>39</td>\n",
       "      <td>67</td>\n",
       "      <td>2</td>\n",
       "      <td>123</td>\n",
       "      <td>59</td>\n",
       "      <td>96</td>\n",
       "      <td>-2</td>\n",
       "      <td>152</td>\n",
       "      <td>7</td>\n",
       "    </tr>\n",
       "  </tbody>\n",
       "</table>\n",
       "</div>"
      ],
      "text/plain": [
       "   e_i1  l_i1  k_i1  reg1  e_i2  l_i2  k_i2  reg2  trip_id\n",
       "0     2    26     2    95    21    45    -2   124        1\n",
       "1    13    43     2    95    26    56    -2   100        2\n",
       "2     3    17     1    95     9    23    -1   157        3\n",
       "0    20    48     2    97    26    59    -2    49        4\n",
       "1    13    35     1    97    26    53    -1    76        5\n",
       "0     2    28     2   123    20    55    -2    50        6\n",
       "1    39    67     2   123    59    96    -2   152        7"
      ]
     },
     "execution_count": 4,
     "metadata": {},
     "output_type": "execute_result"
    }
   ],
   "source": [
    "df"
   ]
  },
  {
   "cell_type": "markdown",
   "metadata": {},
   "source": [
    "### 2. Problem Formulation"
   ]
  },
  {
   "cell_type": "code",
   "execution_count": 5,
   "metadata": {},
   "outputs": [
    {
     "name": "stdout",
     "output_type": "stream",
     "text": [
      "Using license file C:\\Users\\USER\\gurobi.lic\n",
      "Academic license - for non-commercial use only\n"
     ]
    }
   ],
   "source": [
    "model = gp.Model('VRPTW-LMP')"
   ]
  },
  {
   "cell_type": "code",
   "execution_count": 6,
   "metadata": {},
   "outputs": [],
   "source": [
    "# Decision Variables\n",
    "x = model.addVars(M, A, lb=0, vtype=GRB.BINARY, name=\"x\")\n",
    "Q = model.addVars(M, N, lb=0, ub= Qmax, vtype=GRB.CONTINUOUS, name=\"Q\")\n",
    "B = model.addVars(M, N, lb=0, vtype=GRB.CONTINUOUS, name=\"B\")\n",
    "L = model.addVars(M, P, lb=0, vtype=GRB.CONTINUOUS, name=\"L\")\n",
    "\n",
    "model.update()\n"
   ]
  },
  {
   "cell_type": "code",
   "execution_count": 7,
   "metadata": {},
   "outputs": [],
   "source": [
    "# Constraints\n",
    "model.addConstrs(gp.quicksum(x[h, i, j] for j in P+D if j != i for h in M) == 1 for i in P)\n",
    "\n",
    "model.addConstrs(gp.quicksum(x[h, j, i] for j in N if j != i) - gp.quicksum(x[h, i, k] for k in N if k != i) == 0 for i in P+D for h in M)          \n",
    "\n",
    "model.addConstrs(gp.quicksum(x[h, i, j] for j in N if j != i) - gp.quicksum(x[h, k, len(df)+i] for k in N if k != len(df)+i) == 0 for i in P for h in M)          \n",
    "\n",
    "model.addConstrs(gp.quicksum(x[h, j, 2*len(df)+1] for j in N if j != 2*len(df)+1) == 1 for h in M)          \n",
    "\n",
    "model.addConstrs(gp.quicksum(x[h, 0, k] for k in N if k != 0) == 1 for h in M)          \n",
    "\n",
    "model.addConstrs(B[h,i] >= ea[i] for i in N for h in M)\n",
    "\n",
    "model.addConstrs(B[h,i] <= l[i] for i in N for h in M)\n",
    "\n",
    "model.addConstrs(B[h,2*len(df)+1] - B[h,0] <= Tm[h] for h in M)\n",
    "\n",
    "model.addConstrs(B[h,j] >= (B[h,i] + s[i] + tij[(i,j)])*x[h,i,j] for i in N for j in N if j!=i for h in M)\n",
    "\n",
    "model.addConstrs(L[h,i] == B[h,(len(df)+i)] - (B[h,i] + s[i]) for i in P for h in M)\n",
    "\n",
    "model.addConstrs(L[h,i] >= tij[(i,(len(df)+i))] for i in P for h in M)\n",
    "\n",
    "model.addConstrs(L[h,i] <= Lmax[i] for i in P for h in M)\n",
    "\n",
    "model.addConstrs(Q[h,j] >= (Q[h,i] + q[j])*x[h,i,j] for i in N for j in N if j!=i for h in M)\n",
    "\n",
    "model.addConstrs(Q[h,i] >= q[i] for i in N for h in M)\n",
    "\n",
    "model.addConstrs(Q[h,i] <= Qmax + q[i] for i in N for h in M)\n",
    "\n",
    "model.update()"
   ]
  },
  {
   "cell_type": "code",
   "execution_count": 8,
   "metadata": {},
   "outputs": [],
   "source": [
    "# Objective\n",
    "\n",
    "obj1 = model.addVar(lb=0, vtype=GRB.CONTINUOUS, name=\"obj1\")  # auxiliary variable to represent objective\n",
    "obj2 = model.addVar(lb=0, vtype=GRB.CONTINUOUS, name=\"obj2\")  # auxiliary variable to represent objective\n",
    "obj3 = model.addVar(lb=0, vtype=GRB.CONTINUOUS, name=\"obj3\")  # auxiliary variable to represent objective\n",
    "\n",
    "# Objective 1\n",
    "model.addConstr(gp.quicksum(tij[(i,j)]*x[h,i,j] for i,j in A for h in M) <= obj1)\n",
    "\n",
    "# Objective 2\n",
    "model.addConstr(gp.quicksum(L[h,i] - tij[(i,(len(df)+i))] for i in P for h in M) <= obj2)\n",
    "\n",
    "# Objective 3\n",
    "model.addConstr(gp.quicksum((B[h,i] - ea[i])*q[i] for i in P for h in M) <= obj3)\n",
    "\n",
    "model.setObjective((a1*obj1 + a2*obj2 + a3*obj3), GRB.MINIMIZE)\n",
    "\n",
    "model.update()\n"
   ]
  },
  {
   "cell_type": "code",
   "execution_count": 9,
   "metadata": {},
   "outputs": [
    {
     "name": "stdout",
     "output_type": "stream",
     "text": [
      "Warning: Q constraint 0 doesn't have a name\n"
     ]
    }
   ],
   "source": [
    "model.write(\"VRPTW-LMP.lp\")"
   ]
  },
  {
   "cell_type": "code",
   "execution_count": 10,
   "metadata": {},
   "outputs": [
    {
     "name": "stdout",
     "output_type": "stream",
     "text": [
      "Changed value of parameter NonConvex to 2\n",
      "   Prev: -1  Min: -1  Max: 2  Default: -1\n",
      "Changed value of parameter MIPFocus to 3\n",
      "   Prev: 0  Min: 0  Max: 3  Default: 0\n"
     ]
    }
   ],
   "source": [
    "#Set Parameter as Nonconvex Optimization Problem\n",
    "model.Params.NonConvex = 2\n",
    "model.Params.MIPFocus = 3\n",
    "#model.Params.NumericFocus = 3\n",
    "#model.Params.IntFeasTol = 1e-08"
   ]
  },
  {
   "cell_type": "code",
   "execution_count": 11,
   "metadata": {},
   "outputs": [
    {
     "name": "stdout",
     "output_type": "stream",
     "text": [
      "Gurobi Optimizer version 9.0.3 build v9.0.3rc0 (win64)\n",
      "Optimize a model with 773 rows, 1956 columns and 7563 nonzeros\n",
      "Model fingerprint: 0x5adf2222\n",
      "Model has 3360 quadratic constraints\n",
      "Variable types: 276 continuous, 1680 integer (1680 binary)\n",
      "Coefficient statistics:\n",
      "  Matrix range     [1e+00, 5e+01]\n",
      "  QMatrix range    [1e+00, 1e+00]\n",
      "  QLMatrix range   [1e+00, 5e+01]\n",
      "  Objective range  [2e-01, 6e-01]\n",
      "  Bounds range     [1e+00, 4e+00]\n",
      "  RHS range        [1e+00, 1e+06]\n",
      "Presolve removed 549 rows and 633 columns\n",
      "Presolve time: 0.20s\n",
      "Presolved: 4200 rows, 3311 columns, 15162 nonzeros\n",
      "Variable types: 2261 continuous, 1050 integer (1050 binary)\n",
      "Presolve removed 21 rows and 7 columns\n",
      "Presolved: 2058 rows, 1650 columns, 10405 nonzeros\n",
      "\n",
      "\n",
      "Root relaxation: objective 1.201500e+02, 395 iterations, 0.05 seconds\n",
      "\n",
      "    Nodes    |    Current Node    |     Objective Bounds      |     Work\n",
      " Expl Unexpl |  Obj  Depth IntInf | Incumbent    BestBd   Gap | It/Node Time\n",
      "\n",
      "     0     0  122.90000    0  120          -  122.90000      -     -    0s\n",
      "H    0     0                     291.8000000  122.90000  57.9%     -    0s\n",
      "H    0     0                     272.0000000  124.69357  54.2%     -    0s\n",
      "     0     0  151.80000    0   48  272.00000  151.80000  44.2%     -    1s\n",
      "     0     0  159.20000    0   36  272.00000  159.20000  41.5%     -    1s\n",
      "     0     0  175.80000    0   67  272.00000  175.80000  35.4%     -    2s\n",
      "     0     0  177.94545    0   58  272.00000  177.94545  34.6%     -    2s\n",
      "     0     0  178.75767    0  105  272.00000  178.75767  34.3%     -    2s\n",
      "     0     0  178.75767    0   87  272.00000  178.75767  34.3%     -    2s\n",
      "H    0     0                     217.4000000  178.75767  17.8%     -    2s\n",
      "     0     0  185.78102    0   91  217.40000  185.78102  14.5%     -    4s\n",
      "     0     0  189.08814    0   51  217.40000  189.08814  13.0%     -    4s\n",
      "     0     0  189.08814    0  103  217.40000  189.08814  13.0%     -    5s\n",
      "     0     0  189.08814    0   70  217.40000  189.08814  13.0%     -    5s\n",
      "     0     0  189.08814    0   76  217.40000  189.08814  13.0%     -    5s\n",
      "     0     0  189.08814    0   76  217.40000  189.08814  13.0%     -    6s\n",
      "     0     0  189.08814    0   73  217.40000  189.08814  13.0%     -    6s\n",
      "     0     0  189.08814    0   57  217.40000  189.08814  13.0%     -    6s\n",
      "     0     0  189.08814    0   55  217.40000  189.08814  13.0%     -    6s\n",
      "     0     0  189.08814    0   87  217.40000  189.08814  13.0%     -    7s\n",
      "     0     0  189.08814    0   85  217.40000  189.08814  13.0%     -    7s\n",
      "     0     0  193.32857    0   39  217.40000  193.32857  11.1%     -    7s\n",
      "H    0     0                     216.2000000  193.32857  10.6%     -    7s\n",
      "     0     0  200.31566    0   39  216.20000  200.31566  7.35%     -    7s\n",
      "     0     0  204.34715    0   66  216.20000  204.34715  5.48%     -    8s\n",
      "     0     0  204.39212    0   28  216.20000  204.39212  5.46%     -    9s\n",
      "     0     0  204.39212    0   87  216.20000  204.39212  5.46%     -    9s\n",
      "     0     0  204.39212    0   63  216.20000  204.39212  5.46%     -    9s\n",
      "     0     0  204.39212    0   63  216.20000  204.39212  5.46%     -    9s\n",
      "     0     0  204.39212    0   49  216.20000  204.39212  5.46%     -   10s\n",
      "     0     0  213.40000    0   32  216.20000  213.40000  1.30%     -   10s\n",
      "     0     0  215.96842    0   30  216.20000  215.96842  0.11%     -   10s\n",
      "     0     0  216.20000    0   26  216.20000  216.20000  0.00%     -   10s\n",
      "\n",
      "Cutting planes:\n",
      "  Gomory: 25\n",
      "  Implied bound: 117\n",
      "  MIR: 4\n",
      "  Flow cover: 26\n",
      "  RLT: 28\n",
      "  Relax-and-lift: 23\n",
      "\n",
      "Explored 1 nodes (3594 simplex iterations) in 10.42 seconds\n",
      "Thread count was 12 (of 12 available processors)\n",
      "\n",
      "Solution count 4: 216.2 217.4 272 291.8 \n",
      "\n",
      "Optimal solution found (tolerance 1.00e-04)\n",
      "Best objective 2.162000000000e+02, best bound 2.162000000000e+02, gap 0.0000%\n"
     ]
    }
   ],
   "source": [
    "model.optimize()"
   ]
  },
  {
   "cell_type": "code",
   "execution_count": 12,
   "metadata": {},
   "outputs": [
    {
     "name": "stdout",
     "output_type": "stream",
     "text": [
      "1 1 8\n",
      "1 7 14\n",
      "1 8 7\n",
      "1 14 15\n",
      "1 0 1\n",
      "2 4 12\n",
      "2 5 4\n",
      "2 11 15\n",
      "2 12 11\n",
      "2 0 5\n",
      "3 0 15\n",
      "4 6 13\n",
      "4 13 15\n",
      "4 0 6\n",
      "5 0 15\n",
      "6 2 9\n",
      "6 3 10\n",
      "6 9 15\n",
      "6 10 2\n",
      "6 0 3\n",
      "7 0 15\n"
     ]
    }
   ],
   "source": [
    "for m in M:\n",
    "    for u,v in A:\n",
    "        if x[m,u,v].X==1:\n",
    "            print(m,u,v)"
   ]
  },
  {
   "cell_type": "code",
   "execution_count": 16,
   "metadata": {},
   "outputs": [
    {
     "data": {
      "text/plain": [
       "<gurobi.Var B[6,3] (value 3.0)>"
      ]
     },
     "execution_count": 16,
     "metadata": {},
     "output_type": "execute_result"
    }
   ],
   "source": [
    "B[6,3]"
   ]
  },
  {
   "cell_type": "code",
   "execution_count": 17,
   "metadata": {},
   "outputs": [
    {
     "data": {
      "text/html": [
       "<div>\n",
       "<style scoped>\n",
       "    .dataframe tbody tr th:only-of-type {\n",
       "        vertical-align: middle;\n",
       "    }\n",
       "\n",
       "    .dataframe tbody tr th {\n",
       "        vertical-align: top;\n",
       "    }\n",
       "\n",
       "    .dataframe thead th {\n",
       "        text-align: right;\n",
       "    }\n",
       "</style>\n",
       "<table border=\"1\" class=\"dataframe\">\n",
       "  <thead>\n",
       "    <tr style=\"text-align: right;\">\n",
       "      <th></th>\n",
       "      <th>e_i1</th>\n",
       "      <th>l_i1</th>\n",
       "      <th>k_i1</th>\n",
       "      <th>reg1</th>\n",
       "      <th>e_i2</th>\n",
       "      <th>l_i2</th>\n",
       "      <th>k_i2</th>\n",
       "      <th>reg2</th>\n",
       "      <th>trip_id</th>\n",
       "    </tr>\n",
       "  </thead>\n",
       "  <tbody>\n",
       "    <tr>\n",
       "      <th>0</th>\n",
       "      <td>2</td>\n",
       "      <td>26</td>\n",
       "      <td>2</td>\n",
       "      <td>95</td>\n",
       "      <td>21</td>\n",
       "      <td>45</td>\n",
       "      <td>-2</td>\n",
       "      <td>124</td>\n",
       "      <td>1</td>\n",
       "    </tr>\n",
       "    <tr>\n",
       "      <th>1</th>\n",
       "      <td>13</td>\n",
       "      <td>43</td>\n",
       "      <td>2</td>\n",
       "      <td>95</td>\n",
       "      <td>26</td>\n",
       "      <td>56</td>\n",
       "      <td>-2</td>\n",
       "      <td>100</td>\n",
       "      <td>2</td>\n",
       "    </tr>\n",
       "    <tr>\n",
       "      <th>2</th>\n",
       "      <td>3</td>\n",
       "      <td>17</td>\n",
       "      <td>1</td>\n",
       "      <td>95</td>\n",
       "      <td>9</td>\n",
       "      <td>23</td>\n",
       "      <td>-1</td>\n",
       "      <td>157</td>\n",
       "      <td>3</td>\n",
       "    </tr>\n",
       "    <tr>\n",
       "      <th>0</th>\n",
       "      <td>20</td>\n",
       "      <td>48</td>\n",
       "      <td>2</td>\n",
       "      <td>97</td>\n",
       "      <td>26</td>\n",
       "      <td>59</td>\n",
       "      <td>-2</td>\n",
       "      <td>49</td>\n",
       "      <td>4</td>\n",
       "    </tr>\n",
       "    <tr>\n",
       "      <th>1</th>\n",
       "      <td>13</td>\n",
       "      <td>35</td>\n",
       "      <td>1</td>\n",
       "      <td>97</td>\n",
       "      <td>26</td>\n",
       "      <td>53</td>\n",
       "      <td>-1</td>\n",
       "      <td>76</td>\n",
       "      <td>5</td>\n",
       "    </tr>\n",
       "    <tr>\n",
       "      <th>0</th>\n",
       "      <td>2</td>\n",
       "      <td>28</td>\n",
       "      <td>2</td>\n",
       "      <td>123</td>\n",
       "      <td>20</td>\n",
       "      <td>55</td>\n",
       "      <td>-2</td>\n",
       "      <td>50</td>\n",
       "      <td>6</td>\n",
       "    </tr>\n",
       "    <tr>\n",
       "      <th>1</th>\n",
       "      <td>39</td>\n",
       "      <td>67</td>\n",
       "      <td>2</td>\n",
       "      <td>123</td>\n",
       "      <td>59</td>\n",
       "      <td>96</td>\n",
       "      <td>-2</td>\n",
       "      <td>152</td>\n",
       "      <td>7</td>\n",
       "    </tr>\n",
       "  </tbody>\n",
       "</table>\n",
       "</div>"
      ],
      "text/plain": [
       "   e_i1  l_i1  k_i1  reg1  e_i2  l_i2  k_i2  reg2  trip_id\n",
       "0     2    26     2    95    21    45    -2   124        1\n",
       "1    13    43     2    95    26    56    -2   100        2\n",
       "2     3    17     1    95     9    23    -1   157        3\n",
       "0    20    48     2    97    26    59    -2    49        4\n",
       "1    13    35     1    97    26    53    -1    76        5\n",
       "0     2    28     2   123    20    55    -2    50        6\n",
       "1    39    67     2   123    59    96    -2   152        7"
      ]
     },
     "execution_count": 17,
     "metadata": {},
     "output_type": "execute_result"
    }
   ],
   "source": [
    "df"
   ]
  },
  {
   "cell_type": "code",
   "execution_count": null,
   "metadata": {},
   "outputs": [],
   "source": []
  }
 ],
 "metadata": {
  "kernelspec": {
   "display_name": "Python 3 (ipykernel)",
   "language": "python",
   "name": "python3"
  },
  "language_info": {
   "codemirror_mode": {
    "name": "ipython",
    "version": 3
   },
   "file_extension": ".py",
   "mimetype": "text/x-python",
   "name": "python",
   "nbconvert_exporter": "python",
   "pygments_lexer": "ipython3",
   "version": "3.8.8"
  }
 },
 "nbformat": 4,
 "nbformat_minor": 4
}
