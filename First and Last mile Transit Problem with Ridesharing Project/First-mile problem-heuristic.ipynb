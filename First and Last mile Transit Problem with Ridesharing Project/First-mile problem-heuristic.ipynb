{
 "cells": [
  {
   "cell_type": "markdown",
   "metadata": {},
   "source": [
    "### First-Mile Problem"
   ]
  },
  {
   "cell_type": "markdown",
   "metadata": {},
   "source": [
    "Consider:\n",
    "- 30 requests to transit stations\n",
    "- 2 dummy nodes to depart and return\n",
    "- time in minutes relative to the vehicle strating time\n",
    "- Assume every vehicle starts at same time and works for "
   ]
  },
  {
   "cell_type": "code",
   "execution_count": 1,
   "metadata": {},
   "outputs": [],
   "source": [
    "import gurobipy as gp\n",
    "from gurobipy import GRB\n",
    "import numpy as np\n",
    "import pandas as pd"
   ]
  },
  {
   "cell_type": "markdown",
   "metadata": {},
   "source": [
    "### 1. Data"
   ]
  },
  {
   "cell_type": "code",
   "execution_count": 164,
   "metadata": {},
   "outputs": [],
   "source": [
    "# Load\n",
    "sd = pd.read_csv('service_duration.csv')\n",
    "df_97 = pd.read_csv('reg2_97.csv')\n",
    "df_95 = pd.read_csv('reg2_95.csv')\n",
    "df_123 = pd.read_csv('reg2_123.csv')\n",
    "travel_time = pd.read_csv('TravelTime_dp.csv')\n",
    "\n",
    "df_95 = df_95.iloc[:-10]\n",
    "df_97 = df_97.iloc[:-10]\n",
    "# df_123 = df_123.iloc[:2]\n",
    "\n",
    "df = pd.concat([df_95, df_97, df_123], axis=0)\n",
    "df['trip_id'] = [i for i in range(1,len(df)+1)]\n",
    "\n",
    "# set of nodes\n",
    "P = [i for i in df.trip_id]\n",
    "D = [i+len(df) for i in df.trip_id]\n",
    "dummy = [0, 2*len(df)+1]\n",
    "N = P + D + dummy\n",
    "\n",
    "# demand of each trip\n",
    "q_p = {i: df.loc[df['trip_id'] == i, 'k_i1'].iloc[0] for i in P }\n",
    "q_d = {i: df.loc[df['trip_id'] == i-len(df), 'k_i2'].iloc[0] for i in D }\n",
    "q_dd = {i: 0 for i in dummy}   # is it correct?\n",
    "q = {**q_p, **q_d, **q_dd} \n",
    "\n",
    "# early serving time\n",
    "e_p = {i: df.loc[df['trip_id'] == i, 'e_i1'].iloc[0] for i in P }\n",
    "e_d = {i: df.loc[df['trip_id'] == i-len(df), 'e_i2'].iloc[0] for i in D }\n",
    "e_dd = {i: 0 for i in dummy}   # the earliest possible from the vehicle start dispatch time\n",
    "ea = {**e_p, **e_d, **e_dd} \n",
    "\n",
    "# latest serving time\n",
    "M = 1e6\n",
    "l_p = {i: df.loc[df['trip_id'] == i, 'l_i1'].iloc[0] for i in P }\n",
    "l_d = {i: df.loc[df['trip_id'] == i-len(df), 'l_i2'].iloc[0] for i in D }\n",
    "l_dd = {i: M for i in dummy}   # unrestricted value\n",
    "l = {**l_p, **l_d, **l_dd} \n",
    "\n",
    "# Node-Trip ID\n",
    "node_trip_p = {i: df.loc[df['trip_id'] == i, 'reg1'].iloc[0] for i in P }\n",
    "node_trip_d = {i: df.loc[df['trip_id'] == i-len(df), 'reg2'].iloc[0] for i in D }\n",
    "node_trip_dd = {i: i for i in dummy}\n",
    "node_trip = {**node_trip_p, **node_trip_d, **node_trip_dd}\n",
    "\n",
    "# travel time\n",
    "A = [(i, j) for i in N for j in N if i != j]  # complete graph\n",
    "tij = { (i,j): travel_time.iat[node_trip[i],node_trip[j]] for i,j in A}\n",
    "# check - 0,101 and 101,0 must be 0\n",
    "\n",
    "\n",
    "# maximum service time\n",
    "r = 0.5\n",
    "Lmax = {i: (1+r)*tij[(i,len(df)+i)] for i in P }\n",
    "\n",
    "# service duration\n",
    "# assume fix service duretion (loads and unload passenger)\n",
    "s_pd = {i: 3 for i in P+D}\n",
    "s_dd = {i: 0 for i in dummy}\n",
    "s = {**s_pd, **s_dd}\n",
    "\n",
    "\n",
    "# set of vehicles\n",
    "m = 50\n",
    "M = [i for i in range(1,m+1)]\n",
    "Tm = {i: np.random.randint(100,400) for i in M}  # on average the ride-sharing only work 4-6 hours/day\n",
    "Qmax = 4 # assume every vehicles is medium passenger cars (max 5 seats)\n",
    "\n",
    "# weights\n",
    "a1 = 0.6  \n",
    "a2 = 0.4\n",
    "a3 = 0.4"
   ]
  },
  {
   "cell_type": "code",
   "execution_count": 372,
   "metadata": {},
   "outputs": [],
   "source": [
    "df.to_csv('large_network_data.csv')"
   ]
  },
  {
   "cell_type": "code",
   "execution_count": 166,
   "metadata": {},
   "outputs": [
    {
     "name": "stdout",
     "output_type": "stream",
     "text": [
      "[1, 2, 3, 4, 5, 6, 7, 8, 9, 10, 11, 12, 13, 14, 15, 16, 17, 18, 19, 20, 21, 22, 23, 24, 25, 26, 27, 28, 29, 30] [31, 32, 33, 34, 35, 36, 37, 38, 39, 40, 41, 42, 43, 44, 45, 46, 47, 48, 49, 50, 51, 52, 53, 54, 55, 56, 57, 58, 59, 60] [1, 2, 3, 4, 5, 6, 7, 8, 9, 10, 11, 12, 13, 14, 15, 16, 17, 18, 19, 20, 21, 22, 23, 24, 25, 26, 27, 28, 29, 30, 31, 32, 33, 34, 35, 36, 37, 38, 39, 40, 41, 42, 43, 44, 45, 46, 47, 48, 49, 50, 51, 52, 53, 54, 55, 56, 57, 58, 59, 60, 0, 61]\n"
     ]
    }
   ],
   "source": [
    "print(P,D,N)"
   ]
  },
  {
   "cell_type": "code",
   "execution_count": 167,
   "metadata": {},
   "outputs": [
    {
     "data": {
      "text/plain": [
       "61"
      ]
     },
     "execution_count": 167,
     "metadata": {},
     "output_type": "execute_result"
    }
   ],
   "source": [
    "2*len(df)+1"
   ]
  },
  {
   "cell_type": "markdown",
   "metadata": {},
   "source": [
    "### 2. Problem Formulation"
   ]
  },
  {
   "cell_type": "markdown",
   "metadata": {},
   "source": [
    "Step 1: each request is served by a vehicle"
   ]
  },
  {
   "cell_type": "code",
   "execution_count": 23,
   "metadata": {},
   "outputs": [
    {
     "name": "stdout",
     "output_type": "stream",
     "text": [
      "[[0, 1, 31, 61], [0, 2, 32, 61], [0, 3, 33, 61], [0, 4, 34, 61], [0, 5, 35, 61], [0, 6, 36, 61], [0, 7, 37, 61], [0, 8, 38, 61], [0, 9, 39, 61], [0, 10, 40, 61], [0, 11, 41, 61], [0, 12, 42, 61], [0, 13, 43, 61], [0, 14, 44, 61], [0, 15, 45, 61], [0, 16, 46, 61], [0, 17, 47, 61], [0, 18, 48, 61], [0, 19, 49, 61], [0, 20, 50, 61], [0, 21, 51, 61], [0, 22, 52, 61], [0, 23, 53, 61], [0, 24, 54, 61], [0, 25, 55, 61], [0, 26, 56, 61], [0, 27, 57, 61], [0, 28, 58, 61], [0, 29, 59, 61], [0, 30, 60, 61]]\n"
     ]
    }
   ],
   "source": [
    "initial = []\n",
    "for i in range(0, len(df)):\n",
    "    temp = []\n",
    "    temp.append(0)\n",
    "    temp.append(df.iloc[i,8])\n",
    "    temp.append(df.iloc[i,8]+30)\n",
    "    temp.append(2*len(df)+1)\n",
    "    \n",
    "    initial.append(temp)\n",
    "    \n",
    "print(initial)\n",
    "    \n",
    "# print(obj_1(result))\n",
    "# print(obj_2(result))\n",
    "# print(obj_3(result))"
   ]
  },
  {
   "cell_type": "code",
   "execution_count": 237,
   "metadata": {},
   "outputs": [],
   "source": [
    "def initial(df):\n",
    "    initial = []\n",
    "    for i in range(0, len(df)):\n",
    "        temp = []\n",
    "        temp.append(0)\n",
    "        temp.append(df.iloc[i,8])\n",
    "        temp.append(df.iloc[i,8]+30)\n",
    "        temp.append(61)\n",
    "    \n",
    "        initial.append(temp)\n",
    "        \n",
    "    return initial"
   ]
  },
  {
   "cell_type": "code",
   "execution_count": 233,
   "metadata": {},
   "outputs": [],
   "source": [
    "#obj1\n",
    "def obj_1(tour):\n",
    "    obj = 0\n",
    "    for j in range(len(tour)):\n",
    "        tour_temp = tour[j]\n",
    "        sum_time = 0\n",
    "        for i in range(len(tour_temp)-1):\n",
    "            sum_time += tij[tour_temp[i],tour_temp[i+1]]\n",
    "            \n",
    "        obj += sum_time\n",
    "        \n",
    "    return obj"
   ]
  },
  {
   "cell_type": "code",
   "execution_count": 276,
   "metadata": {},
   "outputs": [],
   "source": [
    "#obj2\n",
    "def obj_2(tour):\n",
    "    obj = 0\n",
    "    for j in range(len(tour)):\n",
    "        tour_temp = tour[j]\n",
    "        sum_time = 0\n",
    "        destination = tour_temp[-2]\n",
    "#         print(destination)\n",
    "#         print(tour_temp)\n",
    "#         print(tour_temp[0:len(tour_temp)-1])\n",
    "        B = compute_time(tour_temp[0:len(tour_temp)-1])\n",
    "#         print(B,B[-1])\n",
    "        for m in range(0,len(B)-1):\n",
    "            sum_time += B[-1] - B[m] - tij[tour_temp[m+1],destination]\n",
    "#             print(tour_temp[m+1])\n",
    "#             print(tij[tour_temp[m+1],destination])\n",
    "#             print(sum_time)\n",
    "            \n",
    "        obj += sum_time\n",
    "        \n",
    "    return obj"
   ]
  },
  {
   "cell_type": "code",
   "execution_count": 235,
   "metadata": {},
   "outputs": [],
   "source": [
    "#obj3\n",
    "def obj_3(tour):\n",
    "    obj = 0\n",
    "    for j in range(len(tour)):\n",
    "        tour_temp = tour[j]\n",
    "        wait_time = 0\n",
    "#         destination = tour_temp[-2]\n",
    "# #         print(destination)\n",
    "# #         print(tour_temp)\n",
    "# #         print(tour_temp[0:len(tour_temp)-1])\n",
    "        B = compute_time(tour_temp[0:len(tour_temp)-1])\n",
    "#         print(B)\n",
    "        for m in range(len(B)-1):\n",
    "#             print(B[m], e_p[tour_temp[m+1]],q_p[tour_temp[m+1]])\n",
    "            wait_time += (B[m] - e_p[tour_temp[m+1]])*q_p[tour_temp[m+1]]\n",
    "#             print(wait_time)\n",
    "#             print(tour_temp[m+1])\n",
    "#             print(tij[tour_temp[m+1],destination])\n",
    "#             print(sum_time)\n",
    "            \n",
    "        obj += wait_time\n",
    "        \n",
    "    return obj"
   ]
  },
  {
   "cell_type": "code",
   "execution_count": 236,
   "metadata": {},
   "outputs": [],
   "source": [
    "#compute time\n",
    "def compute_time(tour):\n",
    "    B = []\n",
    "    B_1m = max(tij[tour[0],tour[1]], e_p[tour[1]])\n",
    "#     print(B_1m)\n",
    "#     print(l_p[tour[1]])\n",
    "    if B_1m > l_p[tour[1]]:\n",
    "            a = 'infeasible!'\n",
    "#             print(a)\n",
    "            return a \n",
    "    else:\n",
    "            B.append(B_1m)\n",
    "            B_im = B_1m\n",
    "    for i in range(1, len(tour)-2):\n",
    "        B_jm = max(B_im + tij[tour[i],tour[i+1]] + s_pd[tour[i]], e_p[i+1])\n",
    "#         print(B_jm)\n",
    "        if B_jm > l_p[i+1]:\n",
    "#             print(l_p[i+1])\n",
    "            a = 'infeasible!'\n",
    "#             print(a)\n",
    "            return a \n",
    "        else:\n",
    "            B.append(B_jm)\n",
    "        B_im = B_jm\n",
    "    \n",
    "    \n",
    "    B_jm = max(B_im + tij[tour[-2],tour[-1]] + s_pd[tour[-2]], e_d[tour[-1]])\n",
    "    if B_jm > l_d[tour[-1]]:\n",
    "#             print(l_p[i+1])\n",
    "        a = 'infeasible!'\n",
    "#         print(a)\n",
    "        return a \n",
    "    else:\n",
    "        B.append(B_jm)\n",
    "        B_im = B_jm\n",
    "            \n",
    "    return B"
   ]
  },
  {
   "cell_type": "markdown",
   "metadata": {},
   "source": [
    "Step 2: According to the destinations of the requests, divide the requests to different groups and preprocessing the network."
   ]
  },
  {
   "cell_type": "code",
   "execution_count": 238,
   "metadata": {},
   "outputs": [
    {
     "name": "stdout",
     "output_type": "stream",
     "text": [
      "   e_i1  l_i1  k_i1  reg1  e_i2  l_i2  k_i2  reg2  trip_id\n",
      "0    40    57     2   126    60    77    -2    95        1\n",
      "1    24    47     1    98    30    53    -1    95        2\n",
      "2    15    50     1    79    33    68    -1    95        3\n",
      "3    37    58     1    96    56    77    -1    95        4\n",
      "4    11    43     3    29    29    61    -3    95        5\n",
      "[[0, 1, 31, 61], [0, 2, 32, 61], [0, 3, 33, 61], [0, 4, 34, 61], [0, 5, 35, 61]]\n"
     ]
    }
   ],
   "source": [
    "# Group 1\n",
    "g_1 = df[df['reg2']==95]\n",
    "print(g_1)\n",
    "\n",
    "g_1_initial = initial(g_1)\n",
    "print(g_1_initial)"
   ]
  },
  {
   "cell_type": "code",
   "execution_count": 239,
   "metadata": {},
   "outputs": [
    {
     "name": "stdout",
     "output_type": "stream",
     "text": [
      "   e_i1  l_i1  k_i1  reg1  e_i2  l_i2  k_i2  reg2  trip_id\n",
      "0    30    45     1   127    44    64    -1    97        6\n",
      "1    16    45     2    33    36    70    -2    97        7\n",
      "2    22    43     2    53    29    55    -2    97        8\n",
      "3    30    52     2    48    46    73    -2    97        9\n",
      "4    18    40     3   157    32    59    -3    97       10\n",
      "5    20    48     2    49    26    59    -2    97       11\n",
      "6    13    35     1    76    26    53    -1    97       12\n",
      "7    22    50     3    57    27    60    -3    97       13\n",
      "8    12    34     3    55    23    50    -3    97       14\n",
      "9     7    38     3   153    26    62    -3    97       15\n",
      "[[0, 6, 36, 61], [0, 7, 37, 61], [0, 8, 38, 61], [0, 9, 39, 61], [0, 10, 40, 61], [0, 11, 41, 61], [0, 12, 42, 61], [0, 13, 43, 61], [0, 14, 44, 61], [0, 15, 45, 61]]\n"
     ]
    }
   ],
   "source": [
    "# Group 2\n",
    "g_2 = df[df['reg2']==97]\n",
    "print(g_2)\n",
    "\n",
    "g_2_initial = initial(g_2)\n",
    "print(g_2_initial)"
   ]
  },
  {
   "cell_type": "code",
   "execution_count": 240,
   "metadata": {},
   "outputs": [
    {
     "name": "stdout",
     "output_type": "stream",
     "text": [
      "    e_i1  l_i1  k_i1  reg1  e_i2  l_i2  k_i2  reg2  trip_id\n",
      "0     12    41     2    77    17    55    -2   123       16\n",
      "1     38    57     3    94    45    73    -3   123       17\n",
      "2     29    49     1   153    46    75    -1   123       18\n",
      "3      1    23     3   126     9    40    -3   123       19\n",
      "4      2    28     2    50    20    55    -2   123       20\n",
      "5     39    67     2   152    59    96    -2   123       21\n",
      "6      2    21     3   118    11    39    -3   123       22\n",
      "7     45    55     1   154    54    73    -1   123       23\n",
      "8      2    20     2    70    13    40    -2   123       24\n",
      "9     15    24     1    49    27    45    -1   123       25\n",
      "10     1    17     1    48    19    44    -1   123       26\n",
      "11    13    30     2   162    27    53    -2   123       27\n",
      "12     2    29     3   153    14    50    -3   123       28\n",
      "13     6    32     2    49    15    50    -2   123       29\n",
      "14     9    42     2    24    17    59    -2   123       30\n",
      "[[0, 16, 46, 61], [0, 17, 47, 61], [0, 18, 48, 61], [0, 19, 49, 61], [0, 20, 50, 61], [0, 21, 51, 61], [0, 22, 52, 61], [0, 23, 53, 61], [0, 24, 54, 61], [0, 25, 55, 61], [0, 26, 56, 61], [0, 27, 57, 61], [0, 28, 58, 61], [0, 29, 59, 61], [0, 30, 60, 61]]\n"
     ]
    }
   ],
   "source": [
    "# Group 3\n",
    "g_3 = df[df['reg2']==123]\n",
    "print(g_3)\n",
    "\n",
    "g_3_initial = initial(g_3)\n",
    "print(g_3_initial)"
   ]
  },
  {
   "cell_type": "code",
   "execution_count": 261,
   "metadata": {},
   "outputs": [
    {
     "name": "stdout",
     "output_type": "stream",
     "text": [
      "[[0, 1, 31, 61], [0, 2, 32, 61], [0, 3, 33, 61], [0, 4, 34, 61], [0, 5, 35, 61], [0, 6, 36, 61], [0, 7, 37, 61], [0, 8, 38, 61], [0, 9, 39, 61], [0, 10, 40, 61], [0, 11, 41, 61], [0, 12, 42, 61], [0, 13, 43, 61], [0, 14, 44, 61], [0, 15, 45, 61], [0, 16, 46, 61], [0, 17, 47, 61], [0, 18, 48, 61], [0, 19, 49, 61], [0, 20, 50, 61], [0, 21, 51, 61], [0, 22, 52, 61], [0, 23, 53, 61], [0, 24, 54, 61], [0, 25, 55, 61], [0, 26, 56, 61], [0, 27, 57, 61], [0, 28, 58, 61], [0, 29, 59, 61], [0, 30, 60, 61]]\n"
     ]
    }
   ],
   "source": [
    "g_initial = initial(df)\n",
    "print(g_initial)"
   ]
  },
  {
   "cell_type": "code",
   "execution_count": 241,
   "metadata": {},
   "outputs": [],
   "source": [
    "#preprocessing\n",
    "def preprocessing(g):\n",
    "    merge_candidate = []\n",
    "    for i in range(0,len(g)):\n",
    "        for j in range(0, len(g)):\n",
    "            if g[i][1] != g[j][1]:\n",
    "                if e_p[g[i][1]] + s_pd[g[i][1]]+tij[g[i][1],g[j][1]]<=l_p[g[j][1]]:\n",
    "                    if q_p[g[i][1]] + q_p[g[j][1]] <= Qmax:\n",
    "                        merge_candidate.append([g[i][1],g[j][1]])\n",
    "                        \n",
    "    return merge_candidate"
   ]
  },
  {
   "cell_type": "code",
   "execution_count": 242,
   "metadata": {},
   "outputs": [],
   "source": [
    "def new_match_com(old_match, merge):\n",
    "    new_match = []\n",
    "    for j in range(len(old_match)):\n",
    "        if merge[0] not in old_match[j] and merge[1] not in old_match[j]:\n",
    "            new_match.append(old_match[j])\n",
    "    \n",
    "    new_tour = [0, merge[0], merge[1], merge[0]+30, 61]\n",
    "    new_match.append([0, merge[0], merge[1], merge[0]+30, 61])\n",
    "    \n",
    "    return new_tour, new_match"
   ]
  },
  {
   "cell_type": "code",
   "execution_count": 243,
   "metadata": {},
   "outputs": [],
   "source": [
    "def obtain_final_candidate(merge_candidate, g_initial):\n",
    "    new_match_all = []\n",
    "    new_tour_all = []\n",
    "    merge_final = []\n",
    "    \n",
    "    for i in merge_candidate:\n",
    "        new_tour_temp, new_match_temp = new_match_com(g_initial, i)\n",
    "        if compute_time(new_tour_temp[0:-1]) != 'infeasible!':\n",
    "            new_tour_all.append(new_tour_temp)\n",
    "            new_match_all.append(new_match_temp)\n",
    "            merge_final.append(i)\n",
    "            \n",
    "    return new_tour_all, new_match_all, merge_final"
   ]
  },
  {
   "cell_type": "code",
   "execution_count": 245,
   "metadata": {},
   "outputs": [],
   "source": [
    "def compute_savings(new_match_all, old_match):\n",
    "    savings = []\n",
    "    for i in new_match_all:\n",
    "        temp = obj_1(old_match)-obj_1(i)+obj_2(old_match)-obj_2(i)+obj_3(old_match)-obj_3(i)\n",
    "        savings.append(temp)\n",
    "    \n",
    "    return savings\n",
    "        \n",
    "    "
   ]
  },
  {
   "cell_type": "code",
   "execution_count": 247,
   "metadata": {},
   "outputs": [],
   "source": [
    "def del_merge_final(merge_final, merge):\n",
    "    merge_candidate_new = []\n",
    "    for i in merge_final:\n",
    "        if (i[1] == merge[0] and i[0] != merge[1]) or (i[0] == merge[1] and i[1] != merge[0]):\n",
    "            merge_candidate_new.append(i)\n",
    "            \n",
    "    return merge_candidate_new"
   ]
  },
  {
   "cell_type": "code",
   "execution_count": 249,
   "metadata": {},
   "outputs": [],
   "source": [
    "def obtain_merge_tour(old_match,merge,new_tour_o):\n",
    "    new_match = []\n",
    "    for j in range(len(old_match)):\n",
    "        if merge[0] not in old_match[j] and merge[1] not in old_match[j]:\n",
    "            new_match.append(old_match[j])\n",
    "    \n",
    "    new_tour = []\n",
    "    if merge[0] not in new_tour_o:\n",
    "        new_tour.append(0)\n",
    "        new_tour.append(merge[0])\n",
    "        for m in range(len(new_tour_o)-1):\n",
    "            new_tour.append(new_tour_o[m+1])\n",
    "    if merge[1] not in new_tour_o:\n",
    "        for m in range(len(new_tour_o)):\n",
    "            new_tour.append(new_tour_o[m])\n",
    "            if new_tour_o[m] == merge[0]:\n",
    "                new_tour.append(merge[1])\n",
    "            \n",
    "    new_match.append(new_tour)\n",
    "    \n",
    "    return new_tour, new_match"
   ]
  },
  {
   "cell_type": "code",
   "execution_count": 250,
   "metadata": {},
   "outputs": [],
   "source": [
    "def obtain_final_candidate_gen(merge_candidate, old_match,new_tour_o):\n",
    "    new_match_all = []\n",
    "    new_tour_all = []\n",
    "    merge_final = []\n",
    "    \n",
    "    for i in merge_candidate:\n",
    "        new_tour_temp, new_match_temp = obtain_merge_tour(old_match,i,new_tour_o)\n",
    "#         print(new_tour_temp, new_match_temp)\n",
    "        if compute_time(new_tour_temp[0:-1]) != 'infeasible!':\n",
    "            new_tour_all.append(new_tour_temp)\n",
    "            new_match_all.append(new_match_temp)\n",
    "            merge_final.append(i)\n",
    "            \n",
    "    return new_tour_all, new_match_all, merge_final"
   ]
  },
  {
   "cell_type": "code",
   "execution_count": 291,
   "metadata": {},
   "outputs": [],
   "source": [
    "def merge(g):\n",
    "    g_initial = initial(g)\n",
    "    merge_candidate_g = preprocessing(g_initial)\n",
    "#     print(merge_candidate_g)\n",
    "#     print(g_initial)\n",
    "    new_tour_all, new_match_all, merge_final = obtain_final_candidate(merge_candidate_g, g_initial)\n",
    "    print(merge_final)\n",
    "#     print(new_match_all[9])\n",
    "    \n",
    "    merge_candidate_new = [\"!\"]\n",
    "    savings_all = compute_savings(new_match_all,g_initial)\n",
    "    index_candidate = sorted(range(len(savings_all)), key=lambda k: savings_all[k], reverse = True)\n",
    "    print(savings_all)\n",
    "    print(index_candidate)\n",
    "    \n",
    "    merge = merge_final[savings_all.index(max(savings_all))]\n",
    "#     print(merge)\n",
    "    old_match = new_match_all[savings_all.index(max(savings_all))]\n",
    "#     print(old_match)\n",
    "    new_tour_o = new_tour_all[savings_all.index(max(savings_all))]\n",
    "#     print(old_match, new_tour_o)\n",
    "    \n",
    "    if len(merge_candidate_new):\n",
    "        merge_candidate_new = del_merge_final(merge_final, merge)\n",
    "        new_tour_all, new_match_all, merge_final = obtain_final_candidate_gen(merge_candidate_new, old_match,new_tour_o)\n",
    "    \n",
    "        savings_all = compute_savings(new_match_all,old_match)\n",
    "        merge = merge_final[savings_all.index(max(savings_all))]\n",
    "        old_match = new_match_all[savings_all.index(max(savings_all))]\n",
    "        new_tour_o = new_tour_all[savings_all.index(max(savings_all))]\n",
    "        \n",
    "#         print(old_match, new_tour_o)\n",
    "        \n",
    "    return merge_final, old_match,new_tour_o\n",
    "        \n",
    "\n",
    "    "
   ]
  },
  {
   "cell_type": "code",
   "execution_count": 257,
   "metadata": {},
   "outputs": [
    {
     "name": "stdout",
     "output_type": "stream",
     "text": [
      "[[2, 1], [2, 4], [3, 1], [3, 2], [3, 4], [3, 5], [4, 1], [5, 2], [5, 3], [5, 4]]\n",
      "[64, 64, 64, 70, 64, 1, 66, 34, 10, 79]\n",
      "[9, 3, 6, 0, 1, 2, 4, 7, 8, 5]\n",
      "[[0, 2, 32, 61], [0, 3, 33, 61], [0, 5, 4, 1, 35, 61]]\n",
      "[0, 5, 4, 1, 35, 61]\n"
     ]
    }
   ],
   "source": [
    "#g1 result\n",
    "old_match_1, new_tour_o_1 = merge(g_1)\n",
    "print(old_match_1)\n",
    "print(new_tour_o_1)"
   ]
  },
  {
   "cell_type": "code",
   "execution_count": 282,
   "metadata": {},
   "outputs": [
    {
     "name": "stdout",
     "output_type": "stream",
     "text": [
      "[[7, 6], [7, 8], [7, 9], [7, 11], [7, 12], [9, 11], [10, 6], [10, 12], [11, 8], [11, 9], [11, 12], [12, 6], [12, 8], [12, 9], [12, 10], [12, 11], [12, 14], [14, 12], [15, 6], [15, 12]]\n",
      "[16, 52, 24, 9, 29, 19, 42, 22, -8, 68, 33, 30, 24, 12, -2, 1, -41, 20, 35, 18]\n",
      "[9, 1, 6, 18, 10, 11, 4, 2, 12, 7, 17, 5, 19, 0, 13, 3, 15, 14, 8, 16]\n",
      "[[0, 6, 36, 61], [0, 7, 37, 61], [0, 8, 38, 61], [0, 10, 40, 61], [0, 13, 43, 61], [0, 14, 44, 61], [0, 15, 45, 61], [0, 12, 11, 9, 41, 61]]\n",
      "[0, 12, 11, 9, 41, 61]\n"
     ]
    }
   ],
   "source": [
    "#g2 result\n",
    "old_match_2, new_tour_o_2 = merge(g_2)\n",
    "print(old_match_2)\n",
    "print(new_tour_o_2)"
   ]
  },
  {
   "cell_type": "code",
   "execution_count": 292,
   "metadata": {
    "scrolled": true
   },
   "outputs": [
    {
     "name": "stdout",
     "output_type": "stream",
     "text": [
      "[[16, 18], [16, 20], [16, 23], [16, 29], [16, 30], [18, 21], [18, 23], [20, 16], [20, 18], [20, 21], [20, 23], [20, 24], [20, 25], [20, 26], [20, 29], [20, 30], [21, 18], [21, 23], [22, 18], [22, 23], [24, 18], [24, 21], [24, 23], [24, 25], [24, 26], [24, 29], [24, 30], [25, 18], [25, 20], [25, 23], [25, 29], [25, 30], [26, 18], [26, 20], [26, 21], [26, 23], [26, 24], [26, 25], [26, 28], [26, 29], [26, 30], [28, 18], [28, 23], [29, 18], [29, 20], [29, 21], [29, 23], [29, 24], [29, 25], [29, 26], [29, 30], [30, 18], [30, 21], [30, 23], [30, 24], [30, 29]]\n",
      "[40, 35, 49, 23, 3, 72, 64, 13, 54, 47, 51, 1, 49, 44, 30, 15, 54, 51, 67, 68, 64, 77, 65, 24, 23, 5, 2, 53, 31, 50, 31, 13, 60, 17, 59, 57, 7, 36, 18, 17, 12, 73, 74, 58, 26, 55, 55, 9, 45, 40, 14, 70, 71, 67, 13, 3]\n",
      "[21, 42, 41, 5, 52, 51, 19, 18, 53, 22, 6, 20, 32, 34, 43, 35, 45, 46, 8, 16, 27, 10, 17, 29, 2, 12, 9, 48, 13, 0, 49, 37, 1, 28, 30, 14, 44, 23, 3, 24, 38, 33, 39, 15, 50, 7, 31, 54, 40, 47, 36, 25, 4, 55, 26, 11]\n",
      "[[21, 18], [21, 23]]\n",
      "[[0, 16, 46, 61], [0, 17, 47, 61], [0, 19, 49, 61], [0, 20, 50, 61], [0, 22, 52, 61], [0, 23, 53, 61], [0, 25, 55, 61], [0, 26, 56, 61], [0, 27, 57, 61], [0, 28, 58, 61], [0, 29, 59, 61], [0, 30, 60, 61], [0, 24, 21, 18, 54, 61]]\n",
      "[0, 24, 21, 18, 54, 61]\n"
     ]
    }
   ],
   "source": [
    "#g3 result\n",
    "merge_final, old_match_3, new_tour_o_3 = merge(g_3)\n",
    "print(merge_final)\n",
    "print(old_match_3)\n",
    "print(new_tour_o_3)"
   ]
  }
 ],
 "metadata": {
  "kernelspec": {
   "display_name": "Python 3 (ipykernel)",
   "language": "python",
   "name": "python3"
  },
  "language_info": {
   "codemirror_mode": {
    "name": "ipython",
    "version": 3
   },
   "file_extension": ".py",
   "mimetype": "text/x-python",
   "name": "python",
   "nbconvert_exporter": "python",
   "pygments_lexer": "ipython3",
   "version": "3.8.8"
  }
 },
 "nbformat": 4,
 "nbformat_minor": 4
}
